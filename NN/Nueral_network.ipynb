{
 "cells": [
  {
   "cell_type": "markdown",
   "metadata": {},
   "source": [
    "defining a base class for layers\n"
   ]
  },
  {
   "cell_type": "code",
   "execution_count": null,
   "metadata": {},
   "outputs": [],
   "source": [
    "import numpy as np\n",
    "from Activation_Functions.Layer import Layer"
   ]
  },
  {
   "cell_type": "code",
   "execution_count": 39,
   "metadata": {},
   "outputs": [],
   "source": [
    "#linear layer \n",
    "class Linear(Layer):\n",
    "    def __init__ (self, input_dim, output_dim):\n",
    "        super().__init__()\n",
    "        self.w = 0.1 * np.random.rand(input_dim, output_dim)\n",
    "        self.b = np.zeros((1, output_dim))\n",
    "        self.dw = np.zeros_like(self.w)\n",
    "        self.db = np.zeros_like(self.b)\n",
    "    def forward(self, input):\n",
    "        self.input  = input\n",
    "        self.output= np.dot(input, self.w) + self.b\n",
    "        return self.output\n",
    "    def backward(self, up_gradient: np.ndarray) -> np.ndarray:\n",
    "        \"\"\"Backpropagate the gradients through this layer.\"\"\"\n",
    "        #dw = dL/dw\n",
    "        self.dw = np.dot(self.input.T, up_gradient)  \n",
    "        self.db = np.sum(up_gradient, axis=0, keepdims=True)\n",
    "        down_grad = np.dot(up_gradient, self.w.T)\n",
    "        return down_grad\n",
    "    def step(self, learning_rate: float) -> None:\n",
    "        \"\"\"Update the weights and biases using the gradients.\"\"\"\n",
    "        self.w -= learning_rate * self.dw\n",
    "        self.b -= learning_rate * self.db"
   ]
  },
  {
   "cell_type": "code",
   "execution_count": null,
   "metadata": {},
   "outputs": [
    {
     "name": "stdout",
     "output_type": "stream",
     "text": [
      "Input:\n",
      " [[1. 2. 3.]]\n",
      "Weights:\n",
      " [[0.05488135 0.07151894]\n",
      " [0.06027634 0.05448832]\n",
      " [0.04236548 0.06458941]]\n",
      "Biases:\n",
      " [[0. 0.]]\n",
      "Output:\n",
      " [[0.30253047 0.37426381]]\n"
     ]
    }
   ],
   "source": [
    "# #testing the linearilty\n",
    "# np.random.seed(0)  \n",
    "# linear_layer = Linear(3, 2)\n",
    "# input = np.array([[1.0, 2.0, 3.0]]) \n",
    "# output = linear_layer(input)\n",
    "# print(\"Input:\\n\", input)\n",
    "# print(\"Weights:\\n\", linear_layer.w)\n",
    "# print(\"Biases:\\n\", linear_layer.b)\n",
    "# print(\"Output:\\n\", output)"
   ]
  },
  {
   "cell_type": "code",
   "execution_count": 43,
   "metadata": {},
   "outputs": [
    {
     "ename": "NameError",
     "evalue": "name 'Layer' is not defined",
     "output_type": "error",
     "traceback": [
      "\u001b[31m---------------------------------------------------------------------------\u001b[39m",
      "\u001b[31mNameError\u001b[39m                                 Traceback (most recent call last)",
      "\u001b[36mCell\u001b[39m\u001b[36m \u001b[39m\u001b[32mIn[43]\u001b[39m\u001b[32m, line 3\u001b[39m\n\u001b[32m      1\u001b[39m \u001b[38;5;28;01mimport\u001b[39;00m\u001b[38;5;250m \u001b[39m\u001b[34;01msys\u001b[39;00m \n\u001b[32m      2\u001b[39m sys.path.append(\u001b[33m'\u001b[39m\u001b[33m../\u001b[39m\u001b[33m'\u001b[39m)\n\u001b[32m----> \u001b[39m\u001b[32m3\u001b[39m \u001b[38;5;28;01mfrom\u001b[39;00m\u001b[38;5;250m \u001b[39m\u001b[34;01mActivation_Functions\u001b[39;00m\u001b[34;01m.\u001b[39;00m\u001b[34;01mSigmoid\u001b[39;00m\u001b[38;5;250m \u001b[39m\u001b[38;5;28;01mimport\u001b[39;00m Sigmoid\n",
      "\u001b[36mFile \u001b[39m\u001b[32m~/Desktop/WebDev/Machine_Learning_From_Scratch/NN/../Activation_Functions/Sigmoid.py:3\u001b[39m\n\u001b[32m      1\u001b[39m \u001b[38;5;66;03m#df/dx in sigmoid => f(x)*(1-f(x))\u001b[39;00m\n\u001b[32m----> \u001b[39m\u001b[32m3\u001b[39m \u001b[38;5;28;01mclass\u001b[39;00m\u001b[38;5;250m \u001b[39m\u001b[34;01mSigmoid\u001b[39;00m(\u001b[43mLayer\u001b[49m):\n\u001b[32m      4\u001b[39m     \u001b[38;5;28;01mdef\u001b[39;00m\u001b[38;5;250m \u001b[39m\u001b[34mforward\u001b[39m (\u001b[38;5;28mself\u001b[39m, \u001b[38;5;28minput\u001b[39m):\n\u001b[32m      5\u001b[39m         \u001b[38;5;28mself\u001b[39m.output = \u001b[32m1\u001b[39m/(\u001b[32m1\u001b[39m  + np.exp(-\u001b[38;5;28minput\u001b[39m))\n",
      "\u001b[31mNameError\u001b[39m: name 'Layer' is not defined"
     ]
    }
   ],
   "source": [
    "import sys \n",
    "sys.path.append('../')\n",
    "from Activation_Functions.Sigmoid import Sigmoid"
   ]
  }
 ],
 "metadata": {
  "kernelspec": {
   "display_name": "venv",
   "language": "python",
   "name": "python3"
  },
  "language_info": {
   "codemirror_mode": {
    "name": "ipython",
    "version": 3
   },
   "file_extension": ".py",
   "mimetype": "text/x-python",
   "name": "python",
   "nbconvert_exporter": "python",
   "pygments_lexer": "ipython3",
   "version": "3.11.7"
  }
 },
 "nbformat": 4,
 "nbformat_minor": 2
}
